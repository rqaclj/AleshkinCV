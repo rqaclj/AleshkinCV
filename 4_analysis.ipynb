{
 "cells": [
  {
   "cell_type": "markdown",
   "id": "f1897bb4",
   "metadata": {},
   "source": [
    "## 4 analysis.ipynb"
   ]
  },
  {
   "cell_type": "code",
   "execution_count": 1,
   "id": "8f6a598d",
   "metadata": {
    "execution": {
     "iopub.execute_input": "2025-05-20T08:01:04.537830Z",
     "iopub.status.busy": "2025-05-20T08:01:04.537492Z",
     "iopub.status.idle": "2025-05-20T08:01:05.975275Z",
     "shell.execute_reply": "2025-05-20T08:01:05.975057Z"
    }
   },
   "outputs": [
    {
     "name": "stdout",
     "output_type": "stream",
     "text": [
      "          SSIM      MSE\n",
      "png   1.000000  0.00000\n",
      "jpg   0.975295  1.96535\n",
      "webp  1.000000  0.00000\n"
     ]
    }
   ],
   "source": [
    "import sys\n",
    "sys.path.append('..')\n",
    "# Анализ форматов\n",
    "from src.analysis import main\n",
    "main()"
   ]
  }
 ],
 "metadata": {
  "language_info": {
   "codemirror_mode": {
    "name": "ipython",
    "version": 3
   },
   "file_extension": ".py",
   "mimetype": "text/x-python",
   "name": "python",
   "nbconvert_exporter": "python",
   "pygments_lexer": "ipython3",
   "version": "3.13.1"
  }
 },
 "nbformat": 4,
 "nbformat_minor": 5
}

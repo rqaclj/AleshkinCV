{
 "cells": [
  {
   "cell_type": "markdown",
   "id": "bec079d8",
   "metadata": {},
   "source": [
    "## 1 generator.ipynb"
   ]
  },
  {
   "cell_type": "code",
   "execution_count": 1,
   "id": "16b69057",
   "metadata": {
    "execution": {
     "iopub.execute_input": "2025-05-20T08:00:48.354993Z",
     "iopub.status.busy": "2025-05-20T08:00:48.354695Z",
     "iopub.status.idle": "2025-05-20T08:00:48.707093Z",
     "shell.execute_reply": "2025-05-20T08:00:48.706770Z"
    }
   },
   "outputs": [],
   "source": [
    "import sys\n",
    "sys.path.append('..')\n",
    "# Генерация изображений\n",
    "from src.generator import main\n",
    "main()"
   ]
  }
 ],
 "metadata": {
  "language_info": {
   "codemirror_mode": {
    "name": "ipython",
    "version": 3
   },
   "file_extension": ".py",
   "mimetype": "text/x-python",
   "name": "python",
   "nbconvert_exporter": "python",
   "pygments_lexer": "ipython3",
   "version": "3.13.1"
  }
 },
 "nbformat": 4,
 "nbformat_minor": 5
}
